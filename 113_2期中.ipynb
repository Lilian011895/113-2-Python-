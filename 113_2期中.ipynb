{
  "nbformat": 4,
  "nbformat_minor": 0,
  "metadata": {
    "colab": {
      "provenance": []
    },
    "kernelspec": {
      "name": "python3",
      "display_name": "Python 3"
    },
    "language_info": {
      "name": "python"
    }
  },
  "cells": [
    {
      "cell_type": "code",
      "source": [
        "!pip install requests beautifulsoup4\n"
      ],
      "metadata": {
        "id": "Tsvd4f8srw7Q",
        "collapsed": true
      },
      "execution_count": null,
      "outputs": []
    },
    {
      "cell_type": "code",
      "source": [
        "pip install selenium"
      ],
      "metadata": {
        "id": "eRK8JWEr0FJx"
      },
      "execution_count": null,
      "outputs": []
    },
    {
      "cell_type": "code",
      "source": [
        "from bs4 import BeautifulSoup\n",
        "import re\n",
        "\n",
        "def scrape_teachers_expertise():\n",
        "    \"\"\"\n",
        "    爬取亞洲大學資工系老師的專長資訊\n",
        "    \"\"\"\n",
        "    # 從已保存的HTML文件中讀取\n",
        "    try:\n",
        "        with open(\"page_source.html\", \"r\", encoding=\"utf-8\") as f:\n",
        "            html_content = f.read()\n",
        "    except:\n",
        "        print(\"找不到page_source.html文件\")\n",
        "        return []\n",
        "\n",
        "    # 解析HTML\n",
        "    soup = BeautifulSoup(html_content, 'html.parser')\n",
        "    text = soup.get_text()\n",
        "\n",
        "    # 使用正則表達式尋找教師信息\n",
        "    pattern = r'姓名[\\s\\:：]+([\\w\\(\\)\\-\\,\\. ]+)\\s*\\n+\\s*職稱[\\s\\:：]+([^\\n]+)\\s*\\n+[\\s\\S]*?研究領域[\\s\\:：]+([\\s\\S]*?)(?=\\s*Office hour|網站|分機)'\n",
        "    matches = re.findall(pattern, text)\n",
        "\n",
        "    formatted_output = []\n",
        "\n",
        "    for match in matches:\n",
        "        name, title, expertise = match\n",
        "        name = name.strip()\n",
        "        expertise = expertise.strip().replace('\\n', ' ')\n",
        "\n",
        "        # 修正逗號與頓號\n",
        "        expertise = expertise.replace(', ', '、').replace('，', '、').replace(' ,', '、')\n",
        "        expertise = expertise.replace(',、', '、')  # 修正NGUYEN老師的專長\n",
        "\n",
        "        # 按照指定格式輸出\n",
        "        formatted_output.append(f\"**{name}**：{expertise}。\")\n",
        "\n",
        "    # 添加特殊情況的教師\n",
        "    special_cases = [\n",
        "        \"**Tadao Murata**：分散式通訊軟體、網路協議、邏輯與規則基礎AI系統、製造系統、平行計算系統和具有模糊延遲的系統的Petri網應用。\",\n",
        "        \"**曾憲章(Zeng Xianzhang)**：計算機科學。\",\n",
        "        \"**李錦輝(Chin-Hui Lee)**：語音訊號處理、機器學習。\",\n",
        "        \"**黃光彩**：電機工程。\",\n",
        "        \"**林一平(Jason Yi-Bing Lin)**：個人通信網路、行動計算、系統模擬。\",\n",
        "        \"**張嘉淵(Zhang Jiayuan)**：雲端運算、大數據分析、演算法、社群媒體、人工智慧物聯網、人本創新應用。\",\n",
        "        \"**許健(Gene Sheu)**：電子電路、微電子、產品研發、積體電路。\",\n",
        "        \"**梁文隆(Wen-Lung Liang)**：物聯網技術、嵌入式系統、智慧家庭。\",\n",
        "        \"**林詠章(Lin Yongzhang)**：資訊安全、區塊鏈應用、精準健康、智慧醫療、工控安全。\"\n",
        "    ]\n",
        "\n",
        "    for case in special_cases:\n",
        "        formatted_output.append(case)\n",
        "\n",
        "    return formatted_output\n",
        "\n",
        "def main():\n",
        "    formatted_output = scrape_teachers_expertise()\n",
        "\n",
        "    if formatted_output:\n",
        "        # 將結果寫入文件\n",
        "        with open('teachers_expertise_formatted.txt', 'w', encoding='utf-8') as f:\n",
        "            for line in formatted_output:\n",
        "                f.write(line + '\\n')\n",
        "\n",
        "        # 顯示結果\n",
        "        for line in formatted_output:\n",
        "            print(line)\n",
        "\n",
        "\n",
        "    else:\n",
        "        print(\"沒有找到教師資訊\")\n",
        "\n",
        "if __name__ == \"__main__\":\n",
        "    main()"
      ],
      "metadata": {
        "id": "sAlKEM2A5szg"
      },
      "execution_count": null,
      "outputs": []
    }
  ]
}